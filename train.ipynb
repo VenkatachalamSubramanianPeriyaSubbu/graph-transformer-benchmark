{
 "cells": [
  {
   "cell_type": "code",
   "execution_count": 2,
   "metadata": {},
   "outputs": [],
   "source": [
    "import torch\n",
    "from graph_transformer_pytorch import GraphTransformer\n",
    "from torch_geometric.datasets import TUDataset\n",
    "from torch.utils.data import DataLoader\n",
    "from sklearn.model_selection import train_test_split\n",
    "import numpy as np"
   ]
  },
  {
   "cell_type": "code",
   "execution_count": 8,
   "metadata": {},
   "outputs": [
    {
     "name": "stderr",
     "output_type": "stream",
     "text": [
      "Downloading https://www.chrsmrrs.com/graphkerneldatasets/MUTAG.zip\n"
     ]
    },
    {
     "name": "stdout",
     "output_type": "stream",
     "text": [
      "Number of graphs: 188\n",
      "Number of classes: 2\n",
      "Number of features: 7\n",
      "Data(edge_index=[2, 38], x=[17, 7], edge_attr=[38, 4], y=[1])\n",
      "Node features shape: torch.Size([17, 7])\n",
      "Edge index shape: torch.Size([2, 38])\n",
      "Label: tensor([1])\n"
     ]
    },
    {
     "name": "stderr",
     "output_type": "stream",
     "text": [
      "Processing...\n",
      "Done!\n"
     ]
    }
   ],
   "source": [
    "dataset = TUDataset(root='data/TUDataset', name='MUTAG')\n",
    "\n",
    "print(f\"Number of graphs: {len(dataset)}\")\n",
    "print(f\"Number of classes: {dataset.num_classes}\")\n",
    "print(f\"Number of features: {dataset.num_features}\")\n",
    "\n",
    "# Example graph\n",
    "graph = dataset[0]\n",
    "print(graph)\n",
    "print(f\"Node features shape: {graph.x.shape}\")\n",
    "print(f\"Edge index shape: {graph.edge_index.shape}\")\n",
    "print(f\"Label: {graph.y}\")"
   ]
  },
  {
   "cell_type": "code",
   "execution_count": 15,
   "metadata": {},
   "outputs": [],
   "source": [
    "node_feature_dim = dataset.num_node_features\n",
    "num_classes = dataset.num_classes\n",
    "\n",
    "def collate_fn(batch):\n",
    "    max_nodes = max([data.num_nodes for data in batch])\n",
    "    batch_size = len(batch)\n",
    "    nodes = torch.zeros((batch_size, max_nodes, node_feature_dim))\n",
    "    adj_mat = torch.zeros((batch_size, max_nodes, max_nodes))\n",
    "    mask = torch.zeros((batch_size, max_nodes), dtype=torch.bool)\n",
    "    labels = torch.zeros(batch_size, dtype=torch.long)\n",
    "\n",
    "    for i, data in enumerate(batch):\n",
    "        n = data.num_nodes\n",
    "        nodes[i, :n, :] = data.x\n",
    "        mask[i, :n] = 1\n",
    "\n",
    "        ei = data.edge_index\n",
    "        adj_mat[i, :n, :n][ei[0], ei[1]] = 1\n",
    "\n",
    "        labels[i] = data.y.item()\n",
    "\n",
    "    return nodes, adj_mat, mask, labels\n",
    "\n",
    "# Create a custom DataLoader with the collate function\n",
    "train_idx, test_idx = train_test_split(np.arange(len(dataset)), test_size=0.2, random_state=42)\n",
    "train_dataset = dataset[train_idx]\n",
    "test_dataset = dataset[test_idx]\n",
    "train_loader = DataLoader(train_dataset, batch_size=16, shuffle=True, collate_fn=collate_fn)\n",
    "test_loader = DataLoader(test_dataset, batch_size=16, shuffle=False, collate_fn=collate_fn)"
   ]
  },
  {
   "cell_type": "code",
   "execution_count": 16,
   "metadata": {},
   "outputs": [],
   "source": [
    "model = GraphTransformer(\n",
    "    dim=128,\n",
    "    depth=6,\n",
    "    heads=8,\n",
    "    edge_dim=512,\n",
    "    with_feedforwards=True,\n",
    "    gated_residual=True,\n",
    "    accept_adjacency_matrix=True,\n",
    ")\n",
    "\n",
    "# Move model to the appropriate device\n",
    "device = torch.device('cuda' if torch.cuda.is_available() else 'cpu')\n",
    "model = model.to(device)\n",
    "\n",
    "# Projectors, Loass and Optimizer\n",
    "classifier = torch.nn.Linear(128, dataset.num_classes).to(device)\n",
    "input_projector = torch.nn.Linear(dataset.num_features, 128).to(device)\n",
    "criterion = torch.nn.CrossEntropyLoss()\n",
    "optimizer = torch.optim.Adam(model.parameters(), lr=0.001)"
   ]
  },
  {
   "cell_type": "code",
   "execution_count": 17,
   "metadata": {},
   "outputs": [
    {
     "name": "stdout",
     "output_type": "stream",
     "text": [
      "Epoch 01 | Train Loss: 0.6949\n",
      "Epoch 02 | Train Loss: 0.6618\n",
      "Epoch 03 | Train Loss: 0.6534\n",
      "Epoch 04 | Train Loss: 0.6799\n",
      "Epoch 05 | Train Loss: 0.6676\n",
      "Epoch 06 | Train Loss: 0.6564\n",
      "Epoch 07 | Train Loss: 0.6907\n",
      "Epoch 08 | Train Loss: 0.6708\n",
      "Epoch 09 | Train Loss: 0.6455\n",
      "Epoch 10 | Train Loss: 0.6534\n",
      "Epoch 11 | Train Loss: 0.6485\n",
      "Epoch 12 | Train Loss: 0.6499\n",
      "Epoch 13 | Train Loss: 0.6404\n",
      "Epoch 14 | Train Loss: 0.6489\n",
      "Epoch 15 | Train Loss: 0.6417\n",
      "Epoch 16 | Train Loss: 0.6536\n",
      "Epoch 17 | Train Loss: 0.6472\n",
      "Epoch 18 | Train Loss: 0.6565\n",
      "Epoch 19 | Train Loss: 0.6503\n",
      "Epoch 20 | Train Loss: 0.6501\n",
      "Epoch 21 | Train Loss: 0.6496\n",
      "Epoch 22 | Train Loss: 0.6485\n",
      "Epoch 23 | Train Loss: 0.6419\n",
      "Epoch 24 | Train Loss: 0.6428\n",
      "Epoch 25 | Train Loss: 0.6428\n",
      "Epoch 26 | Train Loss: 0.6514\n",
      "Epoch 27 | Train Loss: 0.6439\n",
      "Epoch 28 | Train Loss: 0.6477\n",
      "Epoch 29 | Train Loss: 0.6745\n",
      "Epoch 30 | Train Loss: 0.6698\n",
      "Epoch 31 | Train Loss: 0.6634\n",
      "Epoch 32 | Train Loss: 0.6605\n",
      "Epoch 33 | Train Loss: 0.6383\n",
      "Epoch 34 | Train Loss: 0.6929\n",
      "Epoch 35 | Train Loss: 0.7220\n",
      "Epoch 36 | Train Loss: 0.6696\n",
      "Epoch 37 | Train Loss: 0.6417\n",
      "Epoch 38 | Train Loss: 0.6575\n",
      "Epoch 39 | Train Loss: 0.6757\n",
      "Epoch 40 | Train Loss: 0.6631\n",
      "Epoch 41 | Train Loss: 0.6452\n",
      "Epoch 42 | Train Loss: 0.6505\n",
      "Epoch 43 | Train Loss: 0.6697\n",
      "Epoch 44 | Train Loss: 0.6703\n",
      "Epoch 45 | Train Loss: 0.6539\n",
      "Epoch 46 | Train Loss: 0.6356\n",
      "Epoch 47 | Train Loss: 0.6474\n",
      "Epoch 48 | Train Loss: 0.6361\n",
      "Epoch 49 | Train Loss: 0.6358\n",
      "Epoch 50 | Train Loss: 0.6416\n"
     ]
    }
   ],
   "source": [
    "epochs = 50\n",
    "for epoch in range(epochs):\n",
    "    model.train()\n",
    "    classifier.train()\n",
    "    total_loss = 0.0\n",
    "\n",
    "    for nodes, adj_mat, mask, labels in train_loader:\n",
    "        nodes = nodes.to(device)\n",
    "        adj_mat = adj_mat.to(device)\n",
    "        mask = mask.to(device)\n",
    "        labels = labels.to(device)\n",
    "\n",
    "        nodes = input_projector(nodes)\n",
    "\n",
    "        optimizer.zero_grad()\n",
    "        output, _ = model(nodes, adj_mat=adj_mat, mask=mask)\n",
    "\n",
    "        # Graph-level mean pooling\n",
    "        graph_emb = (output * mask.unsqueeze(-1)).sum(dim=1) / mask.sum(dim=1, keepdim=True)\n",
    "        logits = classifier(graph_emb)\n",
    "\n",
    "        loss = criterion(logits, labels)\n",
    "        loss.backward()\n",
    "        optimizer.step()\n",
    "\n",
    "        total_loss += loss.item()\n",
    "\n",
    "    print(f\"Epoch {epoch+1:02d} | Train Loss: {total_loss / len(train_loader):.4f}\")"
   ]
  },
  {
   "cell_type": "code",
   "execution_count": 19,
   "metadata": {},
   "outputs": [
    {
     "name": "stdout",
     "output_type": "stream",
     "text": [
      "Test Accuracy: 0.6842\n"
     ]
    }
   ],
   "source": [
    "model.eval()\n",
    "classifier.eval()\n",
    "y_true, y_pred = [], []\n",
    "\n",
    "with torch.no_grad():\n",
    "    for nodes, adj_mat, mask, labels in test_loader:\n",
    "        nodes = nodes.to(device)\n",
    "        adj_mat = adj_mat.to(device)\n",
    "        mask = mask.to(device)\n",
    "        labels = labels.to(device)\n",
    "\n",
    "        nodes = input_projector(nodes)\n",
    "        output, _ = model(nodes, adj_mat=adj_mat, mask=mask)\n",
    "        graph_emb = (output * mask.unsqueeze(-1)).sum(dim=1) / mask.sum(dim=1, keepdim=True)\n",
    "        logits = classifier(graph_emb)\n",
    "        preds = torch.argmax(logits, dim=1)\n",
    "\n",
    "        y_true.append(labels.cpu())\n",
    "        y_pred.append(preds.cpu())\n",
    "\n",
    "y_true = torch.cat(y_true).numpy()\n",
    "y_pred = torch.cat(y_pred).numpy()\n",
    "acc = (y_true == y_pred).mean()\n",
    "print(f\"Test Accuracy: {acc:.4f}\")\n"
   ]
  },
  {
   "cell_type": "code",
   "execution_count": null,
   "metadata": {},
   "outputs": [],
   "source": []
  }
 ],
 "metadata": {
  "kernelspec": {
   "display_name": "gst_env",
   "language": "python",
   "name": "python3"
  },
  "language_info": {
   "codemirror_mode": {
    "name": "ipython",
    "version": 3
   },
   "file_extension": ".py",
   "mimetype": "text/x-python",
   "name": "python",
   "nbconvert_exporter": "python",
   "pygments_lexer": "ipython3",
   "version": "3.10.18"
  }
 },
 "nbformat": 4,
 "nbformat_minor": 2
}
